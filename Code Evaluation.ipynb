{
 "cells": [
  {
   "cell_type": "markdown",
   "metadata": {},
   "source": [
    "## BAGIAN 1: PRIMITIVE DATA TYPES (Soal 1-5)"
   ]
  },
  {
   "cell_type": "markdown",
   "metadata": {},
   "source": [
    "**Soal 1:** Dalam machine learning, learning_rate = 0.01 (float). Tentukan tipe data dari 0.01 dan hitung learning_rate * 100\n",
    "\n",
    "Output:\n",
    "```\n",
    "<class 'float'>\n",
    "1.0\n",
    "```"
   ]
  },
  {
   "cell_type": "code",
   "execution_count": null,
   "metadata": {},
   "outputs": [],
   "source": [
    "# Answer 1\n",
    "learning_rate = 0.01\n",
    "print(type(learning_rate))\n",
    "print(learning_rate * 100)"
   ]
  },
  {
   "cell_type": "markdown",
   "metadata": {},
   "source": [
    "**Soal 2:** Model deep learning memiliki epoch = 50 (int) dan batch_size = 32 (int). Hitung total_samples = epoch * batch_size\n",
    "\n",
    "Output:\n",
    "```\n",
    "Total samples: 1600\n",
    "```"
   ]
  },
  {
   "cell_type": "code",
   "execution_count": null,
   "metadata": {},
   "outputs": [],
   "source": [
    "# Answer 2\n",
    "epoch = 50\n",
    "batch_size = 32\n",
    "# Hint: Kalikan epoch dan batch_size\n",
    "total_samples = ?\n",
    "print(f\"Total samples: {total_samples}\")"
   ]
  },
  {
   "cell_type": "markdown",
   "metadata": {},
   "source": [
    "**Soal 3:** Akurasi model = 0.9567. Konversi ke persentase dengan format persentase.\n",
    "\n",
    "Output:\n",
    "```\n",
    "Akurasi: 95.67%\n",
    "```"
   ]
  },
  {
   "cell_type": "code",
   "execution_count": null,
   "metadata": {},
   "outputs": [],
   "source": [
    "# Answer 3\n",
    "# Deklarasikan variabel accuracy\n",
    "# Hint: Gunakan string formatting untuk menampilkan hasil\n",
    "# Output yang diinginkan: \"Akurasi: 95.67%\"\n",
    "\n",
    "print()"
   ]
  },
  {
   "cell_type": "markdown",
   "metadata": {},
   "source": [
    "**Soal 4:** Training loss = 0.234 dan validation_loss = 0.312. Hitung selisih dan tentukan apakah model overfitting (diff > 0.05)\n",
    "\n",
    "Output:\n",
    "```\n",
    "Overfitting: True\n",
    "```"
   ]
  },
  {
   "cell_type": "code",
   "execution_count": null,
   "metadata": {},
   "outputs": [],
   "source": [
    "# Answer 4\n",
    "training_loss = 0.234\n",
    "validation_loss = 0.312\n",
    "# Hint: Hitung selisih dari validation_loss dan training_loss\n",
    "diff = ?\n",
    "# Hint: Bandingkan diff dengan 0.05\n",
    "is_overfitting = ?\n",
    "print(f\"Overfitting: {is_overfitting}\")"
   ]
  },
  {
   "cell_type": "markdown",
   "metadata": {},
   "source": [
    "**Soal 5:** Konversi string model_name = \"ResNet50\" menjadi panjangnya dan tampilkan hasilnya.\n",
    "\n",
    "Output:\n",
    "```\n",
    "ResNet50 memiliki 8 karakter\n",
    "```"
   ]
  },
  {
   "cell_type": "code",
   "execution_count": null,
   "metadata": {},
   "outputs": [],
   "source": [
    "# Answer 5\n",
    "# Deklarasikan variabel model_name\n",
    "# Hint: Gunakan fungsi untuk mendapatkan panjang string\n",
    "# Output yang diinginkan: \"ResNet50 memiliki 8 karakter\"\n",
    "\n",
    "print()"
   ]
  },
  {
   "cell_type": "markdown",
   "metadata": {},
   "source": [
    "---\n",
    "## BAGIAN 2: STRING OPERATIONS (Soal 6-9)"
   ]
  },
  {
   "cell_type": "markdown",
   "metadata": {},
   "source": [
    "**Soal 6:** Model AI memiliki nama framework = \"TensorFlow\". Ubah menjadi huruf kecil dan ambil 4 karakter pertama\n",
    "\n",
    "Output:\n",
    "```\n",
    "tens\n",
    "```"
   ]
  },
  {
   "cell_type": "code",
   "execution_count": null,
   "metadata": {},
   "outputs": [],
   "source": [
    "# Answer 6\n",
    "framework = \"TensorFlow\"\n",
    "lowercase_framework = framework.lower()  # Ubah ke huruf kecil\n",
    "# Hint: Ambil 4 karakter pertama menggunakan indexing\n",
    "print(lowercase_framework[?])"
   ]
  },
  {
   "cell_type": "markdown",
   "metadata": {},
   "source": [
    "**Soal 7:** Gabungkan layer_1 = \"Convolutional\" dan layer_2 = \"MaxPooling\" dengan separator \" -> \"\n",
    "\n",
    "Output:\n",
    "```\n",
    "Convolutional -> MaxPooling\n",
    "```"
   ]
  },
  {
   "cell_type": "code",
   "execution_count": null,
   "metadata": {},
   "outputs": [],
   "source": [
    "# Answer 7\n",
    "# Deklarasikan layer_1 dan layer_2\n",
    "# Hint: Gabungkan dengan separator \" -> \"\n",
    "# Output yang diinginkan: \"Convolutional -> MaxPooling\"\n",
    "\n",
    "print()"
   ]
  },
  {
   "cell_type": "markdown",
   "metadata": {},
   "source": [
    "**Soal 8:** Split string layers = \"CNN,RNN,Transformer\" menjadi list dan tampilkan elemen pertama\n",
    "\n",
    "Output:\n",
    "```\n",
    "CNN\n",
    "```"
   ]
  },
  {
   "cell_type": "code",
   "execution_count": null,
   "metadata": {},
   "outputs": [],
   "source": [
    "# Answer 8\n",
    "layers = \"CNN,RNN,Transformer\"\n",
    "# Hint: Gunakan method split() dengan separator yang tepat\n",
    "layer_list = layers.split(?)  \n",
    "print(layer_list[?])  # Akses elemen pertama"
   ]
  },
  {
   "cell_type": "markdown",
   "metadata": {},
   "source": [
    "**Soal 9:** Dari list algorithms = [\"Gradient Descent\", \"Adam\", \"SGD\"], gabungkan menjadi string dengan separator \", \"\n",
    "\n",
    "Output:\n",
    "```\n",
    "Gradient Descent, Adam, SGD\n",
    "```"
   ]
  },
  {
   "cell_type": "code",
   "execution_count": null,
   "metadata": {},
   "outputs": [],
   "source": [
    "# Answer 9\n",
    "# Deklarasikan list algorithms\n",
    "# Hint: Gunakan method join() untuk menggabungkan list menjadi string\n",
    "# Output yang diinginkan: \"Gradient Descent, Adam, SGD\"\n",
    "\n",
    "print()"
   ]
  },
  {
   "cell_type": "markdown",
   "metadata": {},
   "source": [
    "---\n",
    "## BAGIAN 3: COMPOSITE DATA TYPES - LIST & DICT (Soal 10-14)"
   ]
  },
  {
   "cell_type": "markdown",
   "metadata": {},
   "source": [
    "**Soal 10:** Buat list neurons = [64, 128, 256, 512] dan tambahkan 1024 di akhir, lalu tampilkan panjangnya\n",
    "\n",
    "Output:\n",
    "```\n",
    "Total layers: 5\n",
    "```"
   ]
  },
  {
   "cell_type": "code",
   "execution_count": null,
   "metadata": {},
   "outputs": [],
   "source": [
    "# Answer 10\n",
    "neurons = [64, 128, 256, 512]\n",
    "# Hint: Gunakan method untuk menambah elemen di akhir\n",
    "neurons.?(?)  \n",
    "print(f\"Total layers: {len(neurons)}\")"
   ]
  },
  {
   "cell_type": "markdown",
   "metadata": {},
   "source": [
    "**Soal 11:** Dari list predictions = [0.9, 0.2, 0.8, 0.1], akses elemen pertama dan terakhir\n",
    "\n",
    "Output:\n",
    "```\n",
    "First: 0.9, Last: 0.1\n",
    "```"
   ]
  },
  {
   "cell_type": "code",
   "execution_count": null,
   "metadata": {},
   "outputs": [],
   "source": [
    "# Answer 11\n",
    "# Deklarasikan list predictions\n",
    "# Hint: Akses elemen pertama dengan index positif, elemen terakhir dengan index negatif\n",
    "# Output yang diinginkan: \"First: 0.9, Last: 0.1\"\n",
    "\n",
    "print()"
   ]
  },
  {
   "cell_type": "markdown",
   "metadata": {},
   "source": [
    "**Soal 12:** Buat dictionary model_config = {'name': 'VGG16', 'layers': 16, 'pretrained': True} dan akses nilai 'layers'\n",
    "\n",
    "Output:\n",
    "```\n",
    "Number of layers: 16\n",
    "```"
   ]
  },
  {
   "cell_type": "code",
   "execution_count": null,
   "metadata": {},
   "outputs": [],
   "source": [
    "# Answer 12\n",
    "# Deklarasikan dictionary model_config\n",
    "# Hint: Akses nilai dengan menggunakan key dalam square bracket\n",
    "# Output yang diinginkan: \"Number of layers: 16\"\n",
    "\n",
    "print()"
   ]
  },
  {
   "cell_type": "markdown",
   "metadata": {},
   "source": [
    "**Soal 13:** Update dictionary hyperparameters = {'lr': 0.001, 'momentum': 0.9} dengan menambah 'weight_decay': 0.0001\n",
    "\n",
    "Output:\n",
    "```\n",
    "{'lr': 0.001, 'momentum': 0.9, 'weight_decay': 0.0001}\n",
    "```"
   ]
  },
  {
   "cell_type": "code",
   "execution_count": null,
   "metadata": {},
   "outputs": [],
   "source": [
    "# Answer 13\n",
    "hyperparameters = {'lr': 0.001, 'momentum': 0.9}\n",
    "# Hint: Tambah key dan value baru ke dictionary\n",
    "hyperparameters[?] = ?\n",
    "print(hyperparameters)"
   ]
  },
  {
   "cell_type": "markdown",
   "metadata": {},
   "source": [
    "**Soal 14:** Dari dictionary results = {'train_acc': 0.95, 'val_acc': 0.92, 'test_acc': 0.91}, tampilkan semua keys\n",
    "\n",
    "Output:\n",
    "```\n",
    "dict_keys(['train_acc', 'val_acc', 'test_acc'])\n",
    "```"
   ]
  },
  {
   "cell_type": "code",
   "execution_count": null,
   "metadata": {},
   "outputs": [],
   "source": [
    "# Answer 14\n",
    "results = {'train_acc': 0.95, 'val_acc': 0.92, 'test_acc': 0.91}\n",
    "# Hint: Gunakan method untuk menampilkan semua keys dari dictionary\n",
    "print(results.?())"
   ]
  },
  {
   "cell_type": "markdown",
   "metadata": {},
   "source": [
    "---\n",
    "## BAGIAN 4: LOOPS - FOR & WHILE (Soal 15-18)"
   ]
  },
  {
   "cell_type": "markdown",
   "metadata": {},
   "source": [
    "**Soal 15:** Tampilkan epochs 1-5 dengan format \"Epoch X/5: Training...\" menggunakan for loop\n",
    "\n",
    "Output:\n",
    "```\n",
    "Epoch 1/5: Training...\n",
    "Epoch 2/5: Training...\n",
    "Epoch 3/5: Training...\n",
    "Epoch 4/5: Training...\n",
    "Epoch 5/5: Training...\n",
    "```"
   ]
  },
  {
   "cell_type": "code",
   "execution_count": null,
   "metadata": {},
   "outputs": [],
   "source": [
    "# Answer 15\n",
    "# Hint: Gunakan for loop dengan range untuk iterasi dari 1 hingga 5\n",
    "# Output yang diinginkan:\n",
    "# Epoch 1/5: Training...\n",
    "# Epoch 2/5: Training...\n",
    "# ..dst\n"
   ]
  },
  {
   "cell_type": "markdown",
   "metadata": {},
   "source": [
    "**Soal 16:** Dari list batch_losses = [0.5, 0.4, 0.3, 0.2], tampilkan setiap loss dengan indeksnya menggunakan for loop\n",
    "\n",
    "Output:\n",
    "```\n",
    "Batch 0: loss = 0.5\n",
    "Batch 1: loss = 0.4\n",
    "Batch 2: loss = 0.3\n",
    "Batch 3: loss = 0.2\n",
    "```"
   ]
  },
  {
   "cell_type": "code",
   "execution_count": null,
   "metadata": {},
   "outputs": [],
   "source": [
    "# Answer 16\n",
    "batch_losses = [0.5, 0.4, 0.3, 0.2]\n",
    "# Hint: Gunakan enumerate() untuk mendapat index dan value sekaligus\n",
    "for ?, ? in enumerate(batch_losses):\n",
    "    print(f\"Batch {?}: loss = {?}\")"
   ]
  },
  {
   "cell_type": "markdown",
   "metadata": {},
   "source": [
    "**Soal 17:** Gunakan while loop untuk menampilkan learning rate yang berkurang: mulai dari lr=0.1, kurangi 0.02 setiap iterasi hingga < 0.04\n",
    "\n",
    "Output:\n",
    "```\n",
    "Current LR: 0.1\n",
    "Current LR: 0.08\n",
    "Current LR: 0.06\n",
    "Current LR: 0.04\n",
    "```"
   ]
  },
  {
   "cell_type": "code",
   "execution_count": null,
   "metadata": {},
   "outputs": [],
   "source": [
    "# Answer 17\n",
    "# Deklarasikan lr = 0.1\n",
    "# Hint: Gunakan while loop dengan kondisi yang tepat\n",
    "# Dalam loop: tampilkan lr, lalu kurangi sebesar 0.02\n",
    "# Output yang diinginkan:\n",
    "# Current LR: 0.1\n",
    "# Current LR: 0.08\n",
    "# ..dst\n"
   ]
  },
  {
   "cell_type": "markdown",
   "metadata": {},
   "source": [
    "**Soal 18:** Gunakan break untuk menghentikan loop ketika model_accuracy = 0.95 tercapai dari list accuracies = [0.70, 0.80, 0.90, 0.95, 0.97]\n",
    "\n",
    "Output:\n",
    "```\n",
    "Accuracy: 0.7\n",
    "Accuracy: 0.8\n",
    "Accuracy: 0.9\n",
    "Accuracy: 0.95\n",
    "Target reached! Breaking...\n",
    "```"
   ]
  },
  {
   "cell_type": "code",
   "execution_count": null,
   "metadata": {},
   "outputs": [],
   "source": [
    "# Answer 18\n",
    "accuracies = [0.70, 0.80, 0.90, 0.95, 0.97]\n",
    "for acc in accuracies:\n",
    "    print(f\"Accuracy: {acc}\")\n",
    "    if ? ? ?:  # Cek apakah acc == 0.95\n",
    "        print(\"Target reached! Breaking...\")\n",
    "        ?  # Gunakan break"
   ]
  },
  {
   "cell_type": "markdown",
   "metadata": {},
   "source": [
    "---\n",
    "## BAGIAN 5: FUNCTIONS & PROCEDURES (Soal 19-21)"
   ]
  },
  {
   "cell_type": "markdown",
   "metadata": {},
   "source": [
    "**Soal 19:** Buat fungsi calculate_accuracy(true_labels, predictions) yang menghitung akurasi. Test dengan true_labels=[1,0,1,1], predictions=[1,0,0,1]\n",
    "\n",
    "Output:\n",
    "```\n",
    "Accuracy: 0.75\n",
    "```"
   ]
  },
  {
   "cell_type": "code",
   "execution_count": null,
   "metadata": {},
   "outputs": [],
   "source": [
    "# Answer 19\n",
    "# Hint: Buat fungsi yang membandingkan setiap elemen dari dua list\n",
    "# Hitung jumlah yang sama, lalu bagi dengan total untuk mendapat akurasi\n",
    "# Output yang diinginkan: \"Accuracy: 0.75\"\n",
    "\n",
    "def calculate_accuracy(true_labels, predictions):\n",
    "    pass\n",
    "\n",
    "true_labels = [1, 0, 1, 1]\n",
    "predictions = [1, 0, 0, 1]\n",
    "print(f\"Accuracy: {calculate_accuracy(true_labels, predictions)}\")"
   ]
  },
  {
   "cell_type": "markdown",
   "metadata": {},
   "source": [
    "**Soal 20:** Buat fungsi normalize_data(value, min_val, max_val) untuk normalisasi min-max. Test dengan value=75, min_val=0, max_val=100\n",
    "\n",
    "Output:\n",
    "```\n",
    "Normalized value: 0.75\n",
    "```"
   ]
  },
  {
   "cell_type": "code",
   "execution_count": null,
   "metadata": {},
   "outputs": [],
   "source": [
    "# Answer 20\n",
    "def normalize_data(value, min_val, max_val):\n",
    "    # Hint: Formula normalisasi min-max adalah (value - min) / (max - min)\n",
    "    return (? - ?) / (? - ?)\n",
    "\n",
    "normalized = normalize_data(75, 0, 100)\n",
    "print(f\"Normalized value: {normalized}\")"
   ]
  },
  {
   "cell_type": "markdown",
   "metadata": {},
   "source": [
    "**Soal 21:** Buat fungsi apply_activation(x, activation_type='relu') yang menerapkan aktivasi. Test dengan x=-5 dan x=3\n",
    "\n",
    "Output:\n",
    "```\n",
    "ReLU(-5) = 0\n",
    "ReLU(3) = 3\n",
    "```"
   ]
  },
  {
   "cell_type": "code",
   "execution_count": null,
   "metadata": {},
   "outputs": [],
   "source": [
    "# Answer 21\n",
    "# Deklarasikan fungsi dengan default parameter activation_type='relu'\n",
    "# Hint: ReLU mengembalikan nilai x jika positif, 0 jika negatif\n",
    "# Juga support sigmoid activation (sudah diberikan)\n",
    "# Output yang diinginkan: \"ReLU(-5) = 0\" dan \"ReLU(3) = 3\"\n",
    "\n",
    "def apply_activation(x, activation_type='relu'):\n",
    "    pass\n",
    "\n",
    "print(f\"ReLU(-5) = {apply_activation(-5)}\")\n",
    "print(f\"ReLU(3) = {apply_activation(3)}\")"
   ]
  },
  {
   "cell_type": "markdown",
   "metadata": {},
   "source": [
    "---\n",
    "## BAGIAN 6: RECURSIVE FUNCTIONS (Soal 22-23)"
   ]
  },
  {
   "cell_type": "markdown",
   "metadata": {},
   "source": [
    "**Soal 22:** Buat fungsi rekursif fibonacci(n) untuk menghitung nilai Fibonacci. Test dengan n=6\n",
    "\n",
    "Output:\n",
    "```\n",
    "Fibonacci(6) = 8\n",
    "```"
   ]
  },
  {
   "cell_type": "code",
   "execution_count": null,
   "metadata": {},
   "outputs": [],
   "source": [
    "# Answer 22\n",
    "# Hint: Buat fungsi rekursif dengan base case (n <= 1)\n",
    "# Recursive case: fib(n-1) + fib(n-2)\n",
    "# Output yang diinginkan: \"Fibonacci(6) = 8\"\n",
    "\n",
    "def fibonacci(n):\n",
    "    pass\n",
    "\n",
    "print(f\"Fibonacci(6) = {fibonacci(6)}\")"
   ]
  },
  {
   "cell_type": "markdown",
   "metadata": {},
   "source": [
    "**Soal 23:** Buat fungsi rekursif power(base, exponent) untuk menghitung base^exponent. Test dengan base=2, exponent=10\n",
    "\n",
    "Output:\n",
    "```\n",
    "2^10 = 1024\n",
    "```"
   ]
  },
  {
   "cell_type": "code",
   "execution_count": null,
   "metadata": {},
   "outputs": [],
   "source": [
    "# Answer 23\n",
    "# Hint: Buat fungsi rekursif dengan base case (exponent == 0 return 1)\n",
    "# Recursive case: base * power(base, exponent-1)\n",
    "# Output yang diinginkan: \"2^10 = 1024\"\n",
    "\n",
    "def power(base, exponent):\n",
    "    pass\n",
    "\n",
    "print(f\"2^10 = {power(2, 10)}\")"
   ]
  },
  {
   "cell_type": "markdown",
   "metadata": {},
   "source": [
    "---\n",
    "## BAGIAN 7: CLASSES & OBJECTS (Soal 24-25)"
   ]
  },
  {
   "cell_type": "markdown",
   "metadata": {},
   "source": [
    "**Soal 24:** Buat class NeuralNetwork dengan attributes (name, layers, activation). Buat instance dan tampilkan info\n",
    "\n",
    "Output:\n",
    "```\n",
    "Model: CNN, Layers: 5, Activation: ReLU\n",
    "```"
   ]
  },
  {
   "cell_type": "code",
   "execution_count": null,
   "metadata": {},
   "outputs": [],
   "source": [
    "# Answer 24\n",
    "# Hint: Buat class dengan __init__ yang menerima name, layers, activation\n",
    "# Buat method display_info() yang menampilkan informasi model\n",
    "# Output yang diinginkan: \"Model: CNN, Layers: 5, Activation: ReLU\"\n",
    "\n",
    "class NeuralNetwork:\n",
    "    pass\n",
    "\n",
    "model = NeuralNetwork(\"CNN\", 5, \"ReLU\")\n",
    "model.display_info()"
   ]
  },
  {
   "cell_type": "markdown",
   "metadata": {},
   "source": [
    "**Soal 25:** Buat class DataPreprocessor dengan method fit(data) dan transform(value) untuk min-max normalization. Test dengan data=[10,20,30]\n",
    "\n",
    "Output:\n",
    "```\n",
    "Normalized 20: 0.5\n",
    "```"
   ]
  },
  {
   "cell_type": "code",
   "execution_count": null,
   "metadata": {},
   "outputs": [],
   "source": [
    "# Answer 25\n",
    "# Hint: Buat class dengan __init__ yang initialize min_val dan max_val\n",
    "# fit() method: set min_val dan max_val dari data\n",
    "# transform() method: normalisasi nilai menggunakan formula (value - min) / (max - min)\n",
    "# Output yang diinginkan: \"Normalized 20: 0.5\"\n",
    "\n",
    "class DataPreprocessor:\n",
    "    pass\n",
    "\n",
    "preprocessor = DataPreprocessor()\n",
    "preprocessor.fit([10, 20, 30])\n",
    "print(f\"Normalized 20: {preprocessor.transform(20)}\")"
   ]
  }
 ],
 "metadata": {
  "kernelspec": {
   "display_name": "Python 3",
   "language": "python",
   "name": "python3"
  },
  "language_version": "3.8.0"
 },
 "nbformat": 4,
 "nbformat_minor": 2
}
