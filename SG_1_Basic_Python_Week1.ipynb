{
  "cells": [
    {
      "cell_type": "markdown",
      "metadata": {
        "id": "obn6tuw4E2FJ"
      },
      "source": [
        "# PENGENALAN BAHASA PYTHON"
      ]
    },
    {
      "cell_type": "markdown",
      "metadata": {
        "id": "Ou_poUoF9h2K"
      },
      "source": [
        "## INPUT OUTPUT"
      ]
    },
    {
      "cell_type": "code",
      "execution_count": null,
      "metadata": {},
      "outputs": [],
      "source": [
        "print (\"hello world!\")"
      ]
    },
    {
      "cell_type": "code",
      "execution_count": null,
      "metadata": {},
      "outputs": [],
      "source": [
        "masukan = input()\n",
        "print(masukan)\n",
        "print(\"masukkan :\",masukan)\n",
        "print(f\"masukkan: {masukan}\")"
      ]
    },
    {
      "cell_type": "markdown",
      "metadata": {
        "id": "y3F8genH9nQM"
      },
      "source": [
        "## TIPE DATA"
      ]
    },
    {
      "cell_type": "markdown",
      "metadata": {
        "id": "POdtNE9C1MeC"
      },
      "source": [
        "### String"
      ]
    },
    {
      "cell_type": "code",
      "execution_count": null,
      "metadata": {},
      "outputs": [
        {
          "name": "stdout",
          "output_type": "stream",
          "text": [
            "stirng  Halo semuanya\n",
            "tipe data : <class 'str'>\n",
            "panjang string  13\n",
            "\n",
            "Jika diulang 2 kali:  Halo semuanya Halo semuanya \n",
            "tampilkan tiga huruf terdepan Hal\n",
            "tampilkan tiga huruf terdepan anya\n",
            "Halo semuanya Selamat malam\n"
          ]
        }
      ],
      "source": [
        "sapa = \"Halo semuanya\"\n",
        "sapaMalam = \"Selamat malam\"\n",
        "\n",
        "print(\"stirng \", sapa)\n",
        "print(f\"tipe data : {type(sapa)}\")\n",
        "print(\"panjang string \", len(sapa))\n",
        "print()\n",
        "\n",
        "print(\"Jika diulang 2 kali: \", ((sapa + \" \")* 2))\n",
        "print(f\"tampilkan tiga huruf terdepan {sapa[:3]}\")\n",
        "print(f\"tampilkan empat huruf dari belakang {sapa[-4:]}\")\n",
        "print(f\"{sapa} {sapaMalam}\")"
      ]
    },
    {
      "cell_type": "markdown",
      "metadata": {
        "id": "OVTnuOA-1W-T"
      },
      "source": [
        "##### Operasi String"
      ]
    },
    {
      "cell_type": "code",
      "execution_count": 55,
      "metadata": {},
      "outputs": [
        {
          "name": "stdout",
          "output_type": "stream",
          "text": [
            "Halo semuanya Selamat malam\n",
            "HALO SEMUANYA\n",
            "Halo semuanya Selamat malam\n",
            "halo semuanya\n"
          ]
        }
      ],
      "source": [
        "sapaMalam = \"Selamat malam\"\n",
        "sapa + sapaMalam\n",
        "print(f\"{sapa} {sapaMalam}\")\n",
        "print(sapa.upper())\n",
        "\n",
        "sapaMalam = \"Selamat malam\"\n",
        "sapa + sapaMalam\n",
        "print(f\"{sapa} {sapaMalam}\")\n",
        "print(sapa.lower())"
      ]
    },
    {
      "cell_type": "markdown",
      "metadata": {
        "id": "uoB9zJh23cp2"
      },
      "source": [
        "### Angka"
      ]
    },
    {
      "cell_type": "code",
      "execution_count": null,
      "metadata": {},
      "outputs": [],
      "source": [
        "bulat = 5\n",
        "type(bulat)\n",
        "\n",
        "desimal = 1.5\n",
        "type(desimal)\n",
        "\n",
        "jumlah = desimal + bulat\n",
        "print(jumlah)\n",
        "\n",
        "str(jumlah) #ubah ke string\n",
        "\n",
        "\n",
        "a=int(input(\"masukkan angka :\"))\n",
        "print(a)"
      ]
    },
    {
      "cell_type": "markdown",
      "metadata": {
        "id": "WDXZsaHv3jma"
      },
      "source": [
        "#### Perhitungan"
      ]
    },
    {
      "cell_type": "code",
      "execution_count": null,
      "metadata": {},
      "outputs": [
        {
          "name": "stdout",
          "output_type": "stream",
          "text": [
            "a: 13\n",
            "b: 3\n",
            "\n",
            "tambah: 16\n",
            "kurang: 10\n",
            "bagi: 4.333333333333333\n",
            "kali: 39\n",
            "modulo: 1\n",
            "pangkat: 2197\n",
            "bagi: 4.333333333333333\n",
            "\n",
            "tipe(a/b): <class 'float'>\n",
            "\n",
            "bagi bulat: 4\n",
            "\n",
            "tipe(a//b): <class 'int'>\n",
            "\n",
            "pembulatan 4.33\n"
          ]
        }
      ],
      "source": [
        "a = 13\n",
        "b = 3\n",
        "\n",
        "print(\"a:\", a)\n",
        "print(\"b:\", b)\n",
        "print()\n",
        "print(\"tambah:\", a+b)\n",
        "print(\"kurang:\", a-b)\n",
        "print(\"bagi:\", a/b)\n",
        "print(\"kali:\", a*b)\n",
        "print(\"modulo:\", a%b) #modulo\n",
        "print(\"pangkat:\", a**b ) \n",
        "print(\"bagi:\", a/b)\n",
        "print()\n",
        "print(\"tipe(a/b):\", type(a/b))\n",
        "print()\n",
        "print(\"bagi bulat:\", a//b)\n",
        "print()\n",
        "print(\"tipe(a//b):\", type(a//b)) #div\n",
        "print()\n",
        "print(\"pembulatan\", round(a/b, 2)) #2 angka belakang koma"
      ]
    },
    {
      "cell_type": "markdown",
      "metadata": {
        "id": "AuIK1JgO9x6D"
      },
      "source": [
        "### Boolean & operator logika"
      ]
    },
    {
      "cell_type": "code",
      "execution_count": 64,
      "metadata": {},
      "outputs": [
        {
          "name": "stdout",
          "output_type": "stream",
          "text": [
            "malam or terang: True\n",
            "malam and terang: False\n",
            "malam == terang: False\n",
            "not malam: False\n",
            "\n",
            "5 < 3: False\n",
            "5 >= 3: True\n",
            "5 == 3: False\n",
            "5 != 3: True\n"
          ]
        }
      ],
      "source": [
        "malam = True\n",
        "terang = False\n",
        "\n",
        "print(\"malam or terang:\", malam or terang)\n",
        "print(\"malam and terang:\", malam and terang)\n",
        "print(\"malam == terang:\", malam == terang)\n",
        "print(\"not malam:\", not malam)\n",
        "print()\n",
        "\n",
        "print(\"5 < 3:\", 5 < 3)\n",
        "print(\"5 >= 3:\", 5 >= 3)\n",
        "print(\"5 == 3:\", 5 == 3)\n",
        "print(\"5 != 3:\", 5 != 3)"
      ]
    },
    {
      "cell_type": "markdown",
      "metadata": {
        "id": "UdBzbeFw9cR2"
      },
      "source": [
        "### None"
      ]
    },
    {
      "cell_type": "code",
      "execution_count": 66,
      "metadata": {},
      "outputs": [
        {
          "name": "stdout",
          "output_type": "stream",
          "text": [
            "None\n",
            "<class 'NoneType'>\n"
          ]
        }
      ],
      "source": [
        "kosong = None\n",
        "\n",
        "print(kosong)\n",
        "print(type(kosong))"
      ]
    },
    {
      "cell_type": "markdown",
      "metadata": {
        "id": "0A8MT6tDkiHQ"
      },
      "source": [
        "### List"
      ]
    },
    {
      "cell_type": "code",
      "execution_count": null,
      "metadata": {},
      "outputs": [
        {
          "name": "stdout",
          "output_type": "stream",
          "text": [
            "List: [1, 2, 3, 4, 5, 6, False, True, 'Gila']\n",
            "Tiple: <class 'list'>\n",
            "Panjang: 9\n",
            "\n",
            "Hasil: [1, 2, 3, 4, 5, 6, False, True, 'Gila']\n",
            "Hasil: [1, 2, 3, 4, 5, 6, False, True, 'Gila']\n",
            "\n",
            "Awal: 1\n",
            "Akhir: Gila\n",
            "elemen 1-2 [2, 3]\n",
            "step 2: [1, 5, 'Gila']\n",
            "\n"
          ]
        }
      ],
      "source": [
        "List = [1, 2, 3, 4, 5, 6, False, True, \"Gila\"]\n",
        "\n",
        "print(\"List:\", List)\n",
        "print(\"Tiple:\", type(List))\n",
        "print(\"Panjang:\", len(List))\n",
        "print()\n",
        "\n",
        "List[0] = 4\n",
        "print(\"Hasil:\", List)\n",
        "List[0] *= 2\n",
        "print(\"Hasil:\", List)\n",
        "print()\n",
        "\n",
        "print(\"Awal:\", List[0])\n",
        "print(\"Akhir:\", List[-1]) #akhir pake min(-)\n",
        "print(\"elemen 1-2\", List[1:3]) #dari 0\n",
        "print(\"step 2:\", List[::4]) #if ::4 berarti lewat 3\n",
        "print()"
      ]
    },
    {
      "cell_type": "markdown",
      "metadata": {
        "id": "ah_WADE_tznx"
      },
      "source": [
        "#### Operasi List"
      ]
    },
    {
      "cell_type": "code",
      "execution_count": 26,
      "metadata": {},
      "outputs": [
        {
          "name": "stdout",
          "output_type": "stream",
          "text": [
            "Masukkan elm di akhir: [7, 1.5, 'apel', False, 2001, 'baru']\n",
            "Sisipkan elm ke indeks: [7, 'baru', 1.5, 'apel', False, 2001, 'baru']\n",
            "\n",
            "Hapus elm di akhir: ['baru', 1.5, 'apel', False, 2001, 'baru']\n",
            "Hapus elm di indeks 2: ['baru', 1.5, False, 2001, 'baru']\n",
            "Hapus suatu elm: ['baru', False, 2001, 'baru']\n",
            "\n",
            "gabung list ke string: Jakarta - Bandung - Surabaya\n",
            "string ke list: ['laptop', 'smartphone', 'komputer']\n",
            "\n"
          ]
        }
      ],
      "source": [
        "List = [7,1.5,'apel', False, 2001]\n",
        "#list itu bisa beda beda tiipe data, sedangkan array biasanya hanya satu tipe data. List cocok digunakan untuk membuat AI karena untuk melatih sebauh sistem yang andal perlu berbagai variasi data yang berbeda tipe\n",
        "\n",
        "new = \"baru\"\n",
        "\n",
        "List.append(new) #insert ke terakhir\n",
        "print(\"Masukkan elm di akhir:\", List)\n",
        "List.insert(1,new) #insert ke (elemen ke berapa, nilainya)\n",
        "print(\"Sisipkan elm ke indeks:\", List)\n",
        "print()\n",
        "\n",
        "List.pop(0) #hapus elemen indeks ke(ke berapa)\n",
        "print(\"Hapus elm di akhir:\", List)\n",
        "List.pop(2)\n",
        "print(\"Hapus elm di indeks 2:\", List)\n",
        "List.remove(1.5) #hapus elemen (nilai elemenya)\n",
        "print(\"Hapus suatu elm:\", List)\n",
        "print()\n",
        "\n",
        "\n",
        "\n",
        "list_kota = ['Jakarta', 'Bandung', 'Surabaya']\n",
        "print(\"gabung list ke string:\", \" - \".join(list_kota)) #join = gabungkan jadi string dari array yang sudah ada\n",
        "\n",
        "barang = \"laptop smartphone komputer\"\n",
        "print(\"string ke list:\", barang.split(\" \")) #dari string yang ada, pisah kah berdasarkan sesuatu yang dalam kurung setelah split\n",
        "print()"
      ]
    },
    {
      "cell_type": "markdown",
      "metadata": {
        "id": "n7hjitznsYUW"
      },
      "source": [
        "### Tuple"
      ]
    },
    {
      "cell_type": "code",
      "execution_count": null,
      "metadata": {},
      "outputs": [
        {
          "name": "stdout",
          "output_type": "stream",
          "text": [
            "elemen 2-3: (2016, 2020)\n",
            "tipe tuple: <class 'tuple'>\n",
            "\n",
            "Elemen pada indeks 2: 2016\n",
            "Elemen dari indeks 2 hingga 4: (2016, 2020)\n",
            "Elemen dari awal hingga indeks 3: (2008, 2012, 2016, 2020)\n",
            "Elemen dari indeks 3 hingga akhir: (2020, 2001, 2011)\n",
            "Elemen dari indeks 3 hingga akhir: (2001, 2011)\n",
            "banyak nilai 2020: 1\n",
            "indeks nilai 2008: 0\n",
            "Banyaknya elemen dalam tuple : 6\n",
            "\n",
            "apakah 2001 ada di list? True\n",
            "True\n",
            "\n",
            "Gabung 2 tuple (2008, 2012, 2016, 2020, 2001, 2011, 2024, 2028)\n",
            "\n"
          ]
        }
      ],
      "source": [
        "tuple = (2008, 2012, 2016, 2020, 2001, 2011)\n",
        "#tuple = list yang isisnya tidak bisa diubah(menambah, hapus atau modifikasi)\n",
        "\n",
        "print(\"elemen 2-3:\", tuple[2:4]) # bisa ditampilkan sebagaian\n",
        "print(\"tipe tuple:\", type(tuple)) #cek tipe data\n",
        "print()\n",
        "\n",
        "print(\"Elemen pada indeks 2:\", tuple[2])\n",
        "print(\"Elemen dari indeks 2 hingga 4:\", tuple[2:4]) #tampilkan dari 2 sampai 4\n",
        "print(\"Elemen dari awal hingga indeks 3:\", tuple[:4])#tampilkan dari awal sampai indeks ke 3\n",
        "print(\"Elemen dari indeks 3 hingga akhir:\", tuple[3:])#tampilkan indeks ke tiga hingga akhir\n",
        "print(\"Elemen dari indeks 3 hingga akhir:\", tuple[-2:])#tampilkan dua indeks terakhir\n",
        "# tuple[2]=1 # error tidak bisa ubah elm tuple\n",
        "\n",
        "print(\"banyak nilai 2020:\", tuple.count(2020)) #cek berapa banyak elemen dengan nilai (dalam kurung)\n",
        "print(\"indeks nilai 2008:\", tuple.index(2008)) #cek (dalam kurung) indeks ke berapa\n",
        "print(f\"Banyaknya elemen dalam tuple : {len(tuple)}\") #banyaknya elemen dalam tuple\n",
        "print()\n",
        "\n",
        "print(\"apakah 2001 ada di list?\", 2001 in tuple) #cek  apakah elemen tersebut ada di tuple\n",
        "print(2008 in tuple)\n",
        "tuple2 = (2024, 2028)\n",
        "print()\n",
        "\n",
        "tuple = tuple + tuple2\n",
        "print(\"Gabung 2 tuple\", tuple)\n",
        "print()\n",
        "\n"
      ]
    },
    {
      "cell_type": "markdown",
      "metadata": {
        "id": "PyyMJzolPqn8"
      },
      "source": [
        "### Set"
      ]
    },
    {
      "cell_type": "code",
      "execution_count": null,
      "metadata": {},
      "outputs": [
        {
          "name": "stdout",
          "output_type": "stream",
          "text": [
            "Set awal: {1, 2, 3}\n",
            "Elemen yang dihapus: 1\n",
            "{2, 3}\n",
            "masukkan 0: {0, 2, 3}\n",
            "\n",
            "Setelah update({100, -1}): {0, 2, 3, 100, -1}\n",
            "Setelah remove(0): {2, 3, 100, -1}\n",
            "\n",
            "Setelah discard(0): {2, 3, 100, -1}\n",
            "Setelah discard(100): {2, 3, -1}\n",
            "\n",
            "Set 1: {2, 3, -1}\n",
            "Set 3: {1, 2, 3, 20, 24}\n",
            "Gabung set & set3: {1, 2, 3, 20, 24, -1}\n"
          ]
        }
      ],
      "source": [
        "set = {3, 1, 2}\n",
        "print(\"Set awal:\", set)\n",
        "\n",
        "popped_element = set.pop() #popped_element = nama variabel, set = nama set, pop = hapus\n",
        "print(\"Elemen yang dihapus:\", popped_element) #nyari elemen yang dihapus\n",
        "print(set) #tampilkan sisa set yang ada\n",
        "\n",
        "set.add(0) #tambah elemen ke awal (indeks ke 0)\n",
        "print(\"masukkan 0:\", set) #masukkan nilai\n",
        "print()\n",
        "\n",
        "set.update({100, -1}) #sama dengan add tapid dengan penambahan elemen yang lebih banyak\n",
        "print(\"Setelah update({100, -1}):\", set)\n",
        "\n",
        "set.remove(0) #hapus elemen dengan nilai (dalam kurung), remove error jika yang dihapus tidak ada dalam set\n",
        "print(\"Setelah remove(0):\", set)\n",
        "print()\n",
        "\n",
        "set.discard(0) # discard tidak error jika elemen tidak ada\n",
        "print(\"Setelah discard(0):\", set)\n",
        "set.discard(100)\n",
        "print(\"Setelah discard(100):\", set)\n",
        "print()\n",
        "\n",
        "set3 = {1, 2, 3 ,20, 24}\n",
        "print(\"Set 1:\", set)\n",
        "print(\"Set 3:\", set3)\n",
        "print(\"Gabung set & set3:\", set.union(set3))#gabungkan 2 set"
      ]
    },
    {
      "cell_type": "code",
      "execution_count": null,
      "metadata": {},
      "outputs": [],
      "source": []
    },
    {
      "cell_type": "markdown",
      "metadata": {
        "id": "g3rk8OAJxfgC"
      },
      "source": [
        "### Dictionary"
      ]
    },
    {
      "cell_type": "code",
      "execution_count": 43,
      "metadata": {},
      "outputs": [
        {
          "name": "stdout",
          "output_type": "stream",
          "text": [
            "Dictionary awal: {'nama': 'Andi', 'umur': 18}\n",
            "Tipe data: <class 'dict'>\n",
            "\n",
            "Umur: 18\n",
            "Nama: None\n",
            "\n",
            "Umur setelah diubah: 19\n",
            "Setelah ditambah kota: {'nama': 'Andi', 'umur': 19, 'kota': 'Bandung'}\n",
            "Setelah hapus: {'nama': 'Andi'}\n",
            "\n",
            "Semua kunci: dict_keys(['nama'])\n",
            "Semua nilai: dict_values(['Andi'])\n",
            "Semua kunci-nilai: dict_items([('nama', 'Andi')])\n",
            "\n",
            "Setelah diclear: {}\n"
          ]
        }
      ],
      "source": [
        "dict = {\n",
        "    'nama' : 'Andi',\n",
        "    'umur' : 18,\n",
        "}\n",
        "\n",
        "print(\"Dictionary awal:\", dict) #tampilkan dictionary\n",
        "print(\"Tipe data:\", type(dict)) #tipe data\n",
        "print()\n",
        "\n",
        "\n",
        "print(\"Umur:\", dict['umur']) #menampilkan nilai dictionary menggunakan key umur\n",
        "print(\"Nama:\", dict.get('nam')) #tidak error jika tidak ada key (pake.get biar tidak error kalo tidak ada)\n",
        "print()\n",
        "\n",
        "dict['umur'] = 19 #mengubah isi key umur\n",
        "print(\"Umur setelah diubah:\", dict['umur'])\n",
        "\n",
        "dict.update({'kota': 'Bandung'}) # Menambah atau memperbarui multiple elemen / tambah key dan isisnya\n",
        "print(\"Setelah ditambah kota:\", dict)\n",
        "\n",
        "dict.pop('umur') #menghapus keys umur\n",
        "dict.pop('kota') #menghapus key kota\n",
        "print(\"Setelah hapus:\", dict)\n",
        "print()\n",
        "\n",
        "print(\"Semua kunci:\", dict.keys())\n",
        "print(\"Semua nilai:\", dict.values())\n",
        "print(\"Semua kunci-nilai:\", dict.items()) #output berupa pasangan\n",
        "print()\n",
        "\n",
        "\n",
        "dict.clear() #hapus semua key dan value dalam dictionary\n",
        "print(\"Setelah diclear:\", dict)"
      ]
    },
    {
      "cell_type": "markdown",
      "metadata": {
        "id": "Da5IpkNRIdvv"
      },
      "source": [
        "## PERCABANGAN"
      ]
    },
    {
      "cell_type": "code",
      "execution_count": null,
      "metadata": {},
      "outputs": [],
      "source": [
        "umur = 18\n",
        "umur = int(input())\n",
        "if umur >= 18 and umur <= 100:\n",
        "    print(\"bisa buat SIM\")\n",
        "elif umur > 100:\n",
        "    print(\"kayaknya meninggal\")\n",
        "else:\n",
        "    print(\"anjay\")\n",
        "\n",
        "\n",
        "hari = \"minggu\"\n",
        "tglMerah = False\n",
        "if hari == \"minggu\" or tglMerah:\n",
        "    print(\"libur\")\n",
        "    "
      ]
    },
    {
      "cell_type": "markdown",
      "metadata": {
        "id": "fkHzaMCiLC9o"
      },
      "source": [
        "## PERULANGAN / LOOPING"
      ]
    },
    {
      "cell_type": "markdown",
      "metadata": {
        "id": "xTPNV-Cz69Ii"
      },
      "source": [
        "#### For-Loop"
      ]
    },
    {
      "cell_type": "code",
      "execution_count": null,
      "metadata": {},
      "outputs": [],
      "source": [
        "for i in range(7):\n",
        "    print(i)\n",
        "\n",
        "\n",
        "print(\"---\")\n",
        "for i in range(2, 10, 2):\n",
        "    print(i)\n",
        "\n",
        "print(\"---\")\n",
        "\n",
        "tas= ['laptop', 'hp', 'pen']\n",
        "\n",
        "for barang in tas:\n",
        "    print(barang)\n",
        "\n",
        "print(\"---\")\n",
        "nilai = [x for x in range(90, 96)]\n",
        "print(nilai)"
      ]
    },
    {
      "cell_type": "markdown",
      "metadata": {
        "id": "dj3s3h7I-Izn"
      },
      "source": [
        "#### Nested Loop"
      ]
    },
    {
      "cell_type": "code",
      "execution_count": null,
      "metadata": {},
      "outputs": [],
      "source": [
        "List = []\n",
        "\n",
        "for i in range(11):\n",
        "    bahasa_pemrograman = input()\n",
        "    if bahasa_pemrograman == 'assembly':\n",
        "        break\n",
        "    List.append(bahasa_pemrograman)\n",
        "\n",
        "List"
      ]
    },
    {
      "cell_type": "code",
      "execution_count": null,
      "metadata": {},
      "outputs": [],
      "source": [
        "matriks = [\n",
        "    [1,2],\n",
        "    [7,8]\n",
        "]\n",
        "\n",
        "for baris in matriks:\n",
        "  for elm in baris:\n",
        "    print(elm, end =\" \")\n",
        "  print()\n",
        "print()\n",
        "\n",
        "for baris in matriks:\n",
        "  print(baris)\n",
        "print()\n",
        "\n",
        "print (matriks)"
      ]
    },
    {
      "cell_type": "markdown",
      "metadata": {
        "id": "SeZ0uorw7gaL"
      },
      "source": [
        "#### Break & Continue"
      ]
    },
    {
      "cell_type": "code",
      "execution_count": null,
      "metadata": {},
      "outputs": [],
      "source": [
        "tas = ['laptop', 'hp', 'pulpen', 'buku']\n",
        "\n",
        "for barang in tas:\n",
        "  if barang == 'hp':\n",
        "    continue\n",
        "  print(barang)\n",
        "print()\n",
        "\n",
        "\n",
        "for barang in tas:\n",
        "  if barang == 'hp':\n",
        "    break\n",
        "  print(barang)\n",
        "print()"
      ]
    },
    {
      "cell_type": "markdown",
      "metadata": {
        "id": "q69DE8667DS_"
      },
      "source": [
        "#### While-Loop"
      ]
    },
    {
      "cell_type": "code",
      "execution_count": null,
      "metadata": {},
      "outputs": [],
      "source": [
        "count = 0\n",
        "\n",
        "while count < 5:\n",
        "    print(f\"perulangan ke-{count+1}\")\n",
        "    count= count + 1\n",
        "\n"
      ]
    },
    {
      "cell_type": "markdown",
      "metadata": {
        "id": "qBWwYwnaIf2S"
      },
      "source": [
        "## REKURSIF"
      ]
    },
    {
      "cell_type": "code",
      "execution_count": null,
      "metadata": {},
      "outputs": [],
      "source": [
        "n = 4\n",
        "\n",
        "def faktorial(n):\n",
        "    if n <= 1:\n",
        "        return 1\n",
        "    else:\n",
        "        return n * faktorial(n-1)\n",
        "\n",
        "print(faktorial(n))"
      ]
    },
    {
      "cell_type": "markdown",
      "metadata": {
        "id": "1UByTsVo_JLv"
      },
      "source": [
        "## FUNGSI & PROSEDUR"
      ]
    },
    {
      "cell_type": "markdown",
      "metadata": {
        "id": "aRAqAySp_sjo"
      },
      "source": [
        "### Fungsi"
      ]
    },
    {
      "cell_type": "code",
      "execution_count": null,
      "metadata": {},
      "outputs": [],
      "source": [
        "def hitung():\n",
        "    a = 7\n",
        "    b = 3\n",
        "    return a + b\n",
        "\n",
        "print(hitung())"
      ]
    },
    {
      "cell_type": "code",
      "execution_count": null,
      "metadata": {},
      "outputs": [],
      "source": [
        "def hitung():\n",
        "    a = 7\n",
        "    b = 3\n",
        "    print (a + b)\n",
        "\n",
        "hitung()"
      ]
    },
    {
      "cell_type": "code",
      "execution_count": null,
      "metadata": {},
      "outputs": [],
      "source": [
        "x = 2\n",
        "y = 4\n",
        "\n",
        "def hitung(a, b):\n",
        "    return a + b\n",
        "\n",
        "haisl = hitung(x, y)\n",
        "print(haisl)"
      ]
    },
    {
      "cell_type": "markdown",
      "metadata": {
        "id": "hhKCU9IWAmLP"
      },
      "source": [
        "#### Prosedur"
      ]
    },
    {
      "cell_type": "code",
      "execution_count": null,
      "metadata": {},
      "outputs": [],
      "source": []
    },
    {
      "cell_type": "code",
      "execution_count": null,
      "metadata": {},
      "outputs": [],
      "source": []
    },
    {
      "cell_type": "markdown",
      "metadata": {
        "id": "xDoEVtdm_Me7"
      },
      "source": [
        "### Parameter args & kwargs"
      ]
    },
    {
      "cell_type": "code",
      "execution_count": null,
      "metadata": {},
      "outputs": [],
      "source": []
    },
    {
      "cell_type": "code",
      "execution_count": null,
      "metadata": {},
      "outputs": [],
      "source": []
    },
    {
      "cell_type": "markdown",
      "metadata": {
        "id": "gZx7DSRSB6do"
      },
      "source": [
        "## IMPORT LIBRARY"
      ]
    },
    {
      "cell_type": "code",
      "execution_count": null,
      "metadata": {},
      "outputs": [],
      "source": [
        "import math as mt\n",
        "\n",
        "print(mt.pi)\n",
        "print(math.sqrt(5))\n",
        "print(math.ceil(1.44))"
      ]
    },
    {
      "cell_type": "code",
      "execution_count": null,
      "metadata": {},
      "outputs": [],
      "source": []
    },
    {
      "cell_type": "markdown",
      "metadata": {
        "id": "T0AI98esGKt9"
      },
      "source": [
        "## KELAS & OBJEK (opsional)"
      ]
    },
    {
      "cell_type": "code",
      "execution_count": null,
      "metadata": {},
      "outputs": [],
      "source": []
    }
  ],
  "metadata": {
    "colab": {
      "provenance": []
    },
    "kernelspec": {
      "display_name": "sg_env",
      "language": "python",
      "name": "python3"
    },
    "language_info": {
      "codemirror_mode": {
        "name": "ipython",
        "version": 3
      },
      "file_extension": ".py",
      "mimetype": "text/x-python",
      "name": "python",
      "nbconvert_exporter": "python",
      "pygments_lexer": "ipython3",
      "version": "3.11.13"
    }
  },
  "nbformat": 4,
  "nbformat_minor": 0
}
